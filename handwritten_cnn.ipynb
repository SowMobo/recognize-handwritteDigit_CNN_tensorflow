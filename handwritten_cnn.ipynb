{
 "cells": [
  {
   "cell_type": "code",
   "execution_count": null,
   "metadata": {},
   "outputs": [],
   "source": []
  }
 ],
 "metadata": {
  "interpreter": {
   "hash": "d79648438f8cd3922f6d1b1cd593cbe27c95de5183c51ded4686ad63ba3fbccc"
  },
  "kernelspec": {
   "display_name": "Python 3.7.11 64-bit ('hamdWriteCNN': conda)",
   "language": "python",
   "name": "python3"
  },
  "language_info": {
   "name": "python",
   "version": "3.7.11"
  },
  "orig_nbformat": 4
 },
 "nbformat": 4,
 "nbformat_minor": 2
}
